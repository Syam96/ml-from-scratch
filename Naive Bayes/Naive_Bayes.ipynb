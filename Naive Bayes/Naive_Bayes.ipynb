{
 "cells": [
  {
   "attachments": {},
   "cell_type": "markdown",
   "metadata": {},
   "source": [
    "### Implementing Naive Bayes Classifier"
   ]
  },
  {
   "cell_type": "code",
   "execution_count": 3,
   "metadata": {},
   "outputs": [],
   "source": [
    "import numpy as np\n",
    "import pandas as pd"
   ]
  },
  {
   "cell_type": "code",
   "execution_count": 4,
   "metadata": {},
   "outputs": [],
   "source": [
    "df = pd.read_table('weather1.txt') #reading the weather data"
   ]
  },
  {
   "cell_type": "code",
   "execution_count": 5,
   "metadata": {},
   "outputs": [
    {
     "data": {
      "text/html": [
       "<div>\n",
       "<style scoped>\n",
       "    .dataframe tbody tr th:only-of-type {\n",
       "        vertical-align: middle;\n",
       "    }\n",
       "\n",
       "    .dataframe tbody tr th {\n",
       "        vertical-align: top;\n",
       "    }\n",
       "\n",
       "    .dataframe thead th {\n",
       "        text-align: right;\n",
       "    }\n",
       "</style>\n",
       "<table border=\"1\" class=\"dataframe\">\n",
       "  <thead>\n",
       "    <tr style=\"text-align: right;\">\n",
       "      <th></th>\n",
       "      <th>Outlook</th>\n",
       "      <th>Temp</th>\n",
       "      <th>Humidity</th>\n",
       "      <th>Windy</th>\n",
       "      <th>Play</th>\n",
       "    </tr>\n",
       "  </thead>\n",
       "  <tbody>\n",
       "    <tr>\n",
       "      <th>0</th>\n",
       "      <td>Sunny</td>\n",
       "      <td>Hot</td>\n",
       "      <td>High</td>\n",
       "      <td>Weak</td>\n",
       "      <td>No</td>\n",
       "    </tr>\n",
       "    <tr>\n",
       "      <th>1</th>\n",
       "      <td>Sunny</td>\n",
       "      <td>Hot</td>\n",
       "      <td>High</td>\n",
       "      <td>Strong</td>\n",
       "      <td>No</td>\n",
       "    </tr>\n",
       "    <tr>\n",
       "      <th>2</th>\n",
       "      <td>Cloudy</td>\n",
       "      <td>Hot</td>\n",
       "      <td>High</td>\n",
       "      <td>Weak</td>\n",
       "      <td>Yes</td>\n",
       "    </tr>\n",
       "    <tr>\n",
       "      <th>3</th>\n",
       "      <td>Rain</td>\n",
       "      <td>Mild</td>\n",
       "      <td>High</td>\n",
       "      <td>Weak</td>\n",
       "      <td>Yes</td>\n",
       "    </tr>\n",
       "    <tr>\n",
       "      <th>4</th>\n",
       "      <td>Rain</td>\n",
       "      <td>Cool</td>\n",
       "      <td>Normal</td>\n",
       "      <td>Weak</td>\n",
       "      <td>Yes</td>\n",
       "    </tr>\n",
       "  </tbody>\n",
       "</table>\n",
       "</div>"
      ],
      "text/plain": [
       "  Outlook  Temp Humidity   Windy Play\n",
       "0   Sunny   Hot     High    Weak   No\n",
       "1   Sunny   Hot     High  Strong   No\n",
       "2  Cloudy   Hot     High    Weak  Yes\n",
       "3    Rain  Mild     High    Weak  Yes\n",
       "4    Rain  Cool   Normal    Weak  Yes"
      ]
     },
     "execution_count": 5,
     "metadata": {},
     "output_type": "execute_result"
    }
   ],
   "source": [
    "df.head()"
   ]
  },
  {
   "cell_type": "code",
   "execution_count": 6,
   "metadata": {},
   "outputs": [],
   "source": [
    "#splitting target columns\n",
    "X = df.loc[:,df.columns!='Play']\n",
    "y = df['Play']"
   ]
  },
  {
   "cell_type": "code",
   "execution_count": 7,
   "metadata": {},
   "outputs": [
    {
     "data": {
      "text/html": [
       "<div>\n",
       "<style scoped>\n",
       "    .dataframe tbody tr th:only-of-type {\n",
       "        vertical-align: middle;\n",
       "    }\n",
       "\n",
       "    .dataframe tbody tr th {\n",
       "        vertical-align: top;\n",
       "    }\n",
       "\n",
       "    .dataframe thead th {\n",
       "        text-align: right;\n",
       "    }\n",
       "</style>\n",
       "<table border=\"1\" class=\"dataframe\">\n",
       "  <thead>\n",
       "    <tr style=\"text-align: right;\">\n",
       "      <th></th>\n",
       "      <th>Outlook</th>\n",
       "      <th>Temp</th>\n",
       "      <th>Humidity</th>\n",
       "      <th>Windy</th>\n",
       "      <th>Play</th>\n",
       "    </tr>\n",
       "  </thead>\n",
       "  <tbody>\n",
       "    <tr>\n",
       "      <th>0</th>\n",
       "      <td>Sunny</td>\n",
       "      <td>Hot</td>\n",
       "      <td>High</td>\n",
       "      <td>Weak</td>\n",
       "      <td>No</td>\n",
       "    </tr>\n",
       "    <tr>\n",
       "      <th>1</th>\n",
       "      <td>Sunny</td>\n",
       "      <td>Hot</td>\n",
       "      <td>High</td>\n",
       "      <td>Strong</td>\n",
       "      <td>No</td>\n",
       "    </tr>\n",
       "    <tr>\n",
       "      <th>2</th>\n",
       "      <td>Cloudy</td>\n",
       "      <td>Hot</td>\n",
       "      <td>High</td>\n",
       "      <td>Weak</td>\n",
       "      <td>Yes</td>\n",
       "    </tr>\n",
       "    <tr>\n",
       "      <th>3</th>\n",
       "      <td>Rain</td>\n",
       "      <td>Mild</td>\n",
       "      <td>High</td>\n",
       "      <td>Weak</td>\n",
       "      <td>Yes</td>\n",
       "    </tr>\n",
       "    <tr>\n",
       "      <th>4</th>\n",
       "      <td>Rain</td>\n",
       "      <td>Cool</td>\n",
       "      <td>Normal</td>\n",
       "      <td>Weak</td>\n",
       "      <td>Yes</td>\n",
       "    </tr>\n",
       "    <tr>\n",
       "      <th>5</th>\n",
       "      <td>Rain</td>\n",
       "      <td>Cool</td>\n",
       "      <td>Normal</td>\n",
       "      <td>Strong</td>\n",
       "      <td>No</td>\n",
       "    </tr>\n",
       "    <tr>\n",
       "      <th>6</th>\n",
       "      <td>Cloudy</td>\n",
       "      <td>Cool</td>\n",
       "      <td>Normal</td>\n",
       "      <td>Strong</td>\n",
       "      <td>Yes</td>\n",
       "    </tr>\n",
       "    <tr>\n",
       "      <th>7</th>\n",
       "      <td>Sunny</td>\n",
       "      <td>Mild</td>\n",
       "      <td>High</td>\n",
       "      <td>Weak</td>\n",
       "      <td>No</td>\n",
       "    </tr>\n",
       "    <tr>\n",
       "      <th>8</th>\n",
       "      <td>Sunny</td>\n",
       "      <td>Cool</td>\n",
       "      <td>Normal</td>\n",
       "      <td>Weak</td>\n",
       "      <td>Yes</td>\n",
       "    </tr>\n",
       "    <tr>\n",
       "      <th>9</th>\n",
       "      <td>Rain</td>\n",
       "      <td>Mild</td>\n",
       "      <td>Normal</td>\n",
       "      <td>Weak</td>\n",
       "      <td>Yes</td>\n",
       "    </tr>\n",
       "    <tr>\n",
       "      <th>10</th>\n",
       "      <td>Sunny</td>\n",
       "      <td>Mild</td>\n",
       "      <td>Normal</td>\n",
       "      <td>Strong</td>\n",
       "      <td>Yes</td>\n",
       "    </tr>\n",
       "    <tr>\n",
       "      <th>11</th>\n",
       "      <td>Cloudy</td>\n",
       "      <td>Mild</td>\n",
       "      <td>High</td>\n",
       "      <td>Strong</td>\n",
       "      <td>Yes</td>\n",
       "    </tr>\n",
       "    <tr>\n",
       "      <th>12</th>\n",
       "      <td>Cloudy</td>\n",
       "      <td>Hot</td>\n",
       "      <td>Normal</td>\n",
       "      <td>Weak</td>\n",
       "      <td>Yes</td>\n",
       "    </tr>\n",
       "    <tr>\n",
       "      <th>13</th>\n",
       "      <td>Rain</td>\n",
       "      <td>Mild</td>\n",
       "      <td>High</td>\n",
       "      <td>Strong</td>\n",
       "      <td>No</td>\n",
       "    </tr>\n",
       "  </tbody>\n",
       "</table>\n",
       "</div>"
      ],
      "text/plain": [
       "   Outlook  Temp Humidity   Windy Play\n",
       "0    Sunny   Hot     High    Weak   No\n",
       "1    Sunny   Hot     High  Strong   No\n",
       "2   Cloudy   Hot     High    Weak  Yes\n",
       "3     Rain  Mild     High    Weak  Yes\n",
       "4     Rain  Cool   Normal    Weak  Yes\n",
       "5     Rain  Cool   Normal  Strong   No\n",
       "6   Cloudy  Cool   Normal  Strong  Yes\n",
       "7    Sunny  Mild     High    Weak   No\n",
       "8    Sunny  Cool   Normal    Weak  Yes\n",
       "9     Rain  Mild   Normal    Weak  Yes\n",
       "10   Sunny  Mild   Normal  Strong  Yes\n",
       "11  Cloudy  Mild     High  Strong  Yes\n",
       "12  Cloudy   Hot   Normal    Weak  Yes\n",
       "13    Rain  Mild     High  Strong   No"
      ]
     },
     "execution_count": 7,
     "metadata": {},
     "output_type": "execute_result"
    }
   ],
   "source": [
    "df.head(20)"
   ]
  },
  {
   "cell_type": "code",
   "execution_count": 8,
   "metadata": {},
   "outputs": [
    {
     "name": "stdout",
     "output_type": "stream",
     "text": [
      "Index(['Outlook', 'Temp', 'Humidity', 'Windy'], dtype='object')\n"
     ]
    }
   ],
   "source": [
    "features = X.columns\n",
    "print(features)"
   ]
  },
  {
   "cell_type": "code",
   "execution_count": 122,
   "metadata": {},
   "outputs": [],
   "source": [
    "#finding prior probabilities and likelihood\n",
    "cond_prob = {}\n",
    "pred_prior_prob = {}\n",
    "for feature in features:\n",
    "    for feat_val in sorted(np.unique(X[feature])):\n",
    "        pred_prior_prob[(feature, feat_val)] = len(X[(X[feature]==feat_val)])/len(X)\n",
    "        for outcome in np.unique(y):\n",
    "            outcome_data_count = len(y[y==outcome])\n",
    "            cond_prob[(outcome, (feature, feat_val))] = len(X[(X[feature]==feat_val)&(y==outcome)])/outcome_data_count"
   ]
  },
  {
   "cell_type": "code",
   "execution_count": 132,
   "metadata": {},
   "outputs": [
    {
     "name": "stdout",
     "output_type": "stream",
     "text": [
      "{('No', ('Outlook', 'Cloudy')): 0.0, ('Yes', ('Outlook', 'Cloudy')): 0.4444444444444444, ('No', ('Outlook', 'Rain')): 0.4, ('Yes', ('Outlook', 'Rain')): 0.3333333333333333, ('No', ('Outlook', 'Sunny')): 0.6, ('Yes', ('Outlook', 'Sunny')): 0.2222222222222222, ('No', ('Temp', 'Cool')): 0.2, ('Yes', ('Temp', 'Cool')): 0.3333333333333333, ('No', ('Temp', 'Hot')): 0.4, ('Yes', ('Temp', 'Hot')): 0.2222222222222222, ('No', ('Temp', 'Mild')): 0.4, ('Yes', ('Temp', 'Mild')): 0.4444444444444444, ('No', ('Humidity', 'High')): 0.8, ('Yes', ('Humidity', 'High')): 0.3333333333333333, ('No', ('Humidity', 'Normal')): 0.2, ('Yes', ('Humidity', 'Normal')): 0.6666666666666666, ('No', ('Windy', 'Strong')): 0.6, ('Yes', ('Windy', 'Strong')): 0.3333333333333333, ('No', ('Windy', 'Weak')): 0.4, ('Yes', ('Windy', 'Weak')): 0.6666666666666666}\n"
     ]
    }
   ],
   "source": [
    "print(cond_prob) #finding likelihood"
   ]
  },
  {
   "cell_type": "code",
   "execution_count": 124,
   "metadata": {},
   "outputs": [
    {
     "data": {
      "text/plain": [
       "{('Outlook', 'Cloudy'): 0.2857142857142857,\n",
       " ('Outlook', 'Rain'): 0.35714285714285715,\n",
       " ('Outlook', 'Sunny'): 0.35714285714285715,\n",
       " ('Temp', 'Cool'): 0.2857142857142857,\n",
       " ('Temp', 'Hot'): 0.2857142857142857,\n",
       " ('Temp', 'Mild'): 0.42857142857142855,\n",
       " ('Humidity', 'High'): 0.5,\n",
       " ('Humidity', 'Normal'): 0.5,\n",
       " ('Windy', 'Strong'): 0.42857142857142855,\n",
       " ('Windy', 'Weak'): 0.5714285714285714}"
      ]
     },
     "execution_count": 124,
     "metadata": {},
     "output_type": "execute_result"
    }
   ],
   "source": [
    "pred_prior_prob"
   ]
  },
  {
   "cell_type": "code",
   "execution_count": 125,
   "metadata": {},
   "outputs": [
    {
     "data": {
      "text/plain": [
       "{'No': 0.35714285714285715, 'Yes': 0.6428571428571429}"
      ]
     },
     "execution_count": 125,
     "metadata": {},
     "output_type": "execute_result"
    }
   ],
   "source": [
    "#finding prior Probability of two classes\n",
    "class_prior_prob = {outcome: len(y[y==outcome])/len(y) for outcome in np.unique(y)}\n",
    "class_prior_prob"
   ]
  },
  {
   "cell_type": "code",
   "execution_count": 127,
   "metadata": {},
   "outputs": [],
   "source": [
    "#finding posterior probability \n",
    "def post_prob(outcome, input_values):\n",
    "    class_prior = class_prior_prob[outcome]\n",
    "    cp = 1\n",
    "    pred_prior = 1\n",
    "    for i in range(len(features)):\n",
    "        cp *= cond_prob[(outcome, (features[i], input_values[i]))]\n",
    "        pred_prior *= pred_prior_prob[(features[i], input_values[i])]\n",
    "    print(\"Numerator: \", cp*class_prior)\n",
    "    return(cp*class_prior/pred_prior)\n"
   ]
  },
  {
   "cell_type": "code",
   "execution_count": 129,
   "metadata": {},
   "outputs": [
    {
     "name": "stdout",
     "output_type": "stream",
     "text": [
      "Numerator:  0.010582010582010581\n"
     ]
    },
    {
     "data": {
      "text/plain": [
       "0.36296296296296293"
      ]
     },
     "execution_count": 129,
     "metadata": {},
     "output_type": "execute_result"
    }
   ],
   "source": [
    "post_prob(\"Yes\", ['Rain', 'Hot', 'High', 'Weak'])"
   ]
  },
  {
   "cell_type": "code",
   "execution_count": 130,
   "metadata": {},
   "outputs": [
    {
     "name": "stdout",
     "output_type": "stream",
     "text": [
      "Numerator:  0.01828571428571429\n"
     ]
    },
    {
     "data": {
      "text/plain": [
       "0.6272000000000002"
      ]
     },
     "execution_count": 130,
     "metadata": {},
     "output_type": "execute_result"
    }
   ],
   "source": [
    "post_prob(\"No\", ['Rain', 'Hot', 'High', 'Weak'])"
   ]
  },
  {
   "cell_type": "code",
   "execution_count": 134,
   "metadata": {},
   "outputs": [
    {
     "name": "stdout",
     "output_type": "stream",
     "text": [
      "Numerator:  0.010582010582010581\n",
      "Numerator:  0.01828571428571429\n",
      "The given Condition is not fit for playing\n"
     ]
    }
   ],
   "source": [
    "if post_prob(\"Yes\", ['Rain', 'Hot', 'High', 'Weak']) > post_prob(\"No\", ['Rain', 'Hot', 'High', 'Weak']):\n",
    "    print(\"Condition is fit for playing\")\n",
    "else:\n",
    "    print(\"The given Condition is not fit for playing\")"
   ]
  },
  {
   "cell_type": "code",
   "execution_count": null,
   "metadata": {},
   "outputs": [],
   "source": []
  }
 ],
 "metadata": {
  "kernelspec": {
   "display_name": "base",
   "language": "python",
   "name": "python3"
  },
  "language_info": {
   "codemirror_mode": {
    "name": "ipython",
    "version": 3
   },
   "file_extension": ".py",
   "mimetype": "text/x-python",
   "name": "python",
   "nbconvert_exporter": "python",
   "pygments_lexer": "ipython3",
   "version": "3.9.5"
  },
  "orig_nbformat": 4,
  "vscode": {
   "interpreter": {
    "hash": "87ff26b1b1b03c9a28c21e2715c5b698a5783ede0f9b8c0e79da352bbb784cbf"
   }
  }
 },
 "nbformat": 4,
 "nbformat_minor": 2
}
